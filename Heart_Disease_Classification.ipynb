{
 "cells": [
  {
   "cell_type": "markdown",
   "id": "c4df68a1-8d1a-4bf8-a4b7-cae1035e545c",
   "metadata": {},
   "source": [
    "# Predicting heart disease using machine learning\n",
    "\n",
    "This notebook looks into into various python based machine learning and data science libraries in an attempt to build a ml model capable of predicting whether or not someone has heart disease or not based on their medical attributes.\n",
    "\n",
    "Approach :\n",
    "1. Problem definition\n",
    "2. Data\n",
    "3. Evaluation\n",
    "4. Features\n",
    "5. Modelling\n",
    "6. Experimentation\n",
    "\n",
    "### 1. Problem Definition\n",
    "In a statement,\n",
    "> Given clinical parameters about a patient,can we predict whether or not have heart disease\n",
    "### 2. Data\n",
    "The original data came from the Cleaveland data from UCI Machine Learning Repository.\n",
    "There is version available in kaggle : https://www.kaggle.com/datasets/johnsmith88/heart-disease-dataset\n",
    "### 3. Evaluation \n",
    "> If we can reach 95% accuracy at predicting whether or not a patient has heart disease during the proof of concept,we'll pursue the project\n",
    "### 4. Features\n",
    "##### Create the data dictionary \n",
    "\n",
    "        age\n",
    "        sex\n",
    "        chest pain type (4 values)\n",
    "        resting blood pressure\n",
    "        serum cholestoral in mg/dl\n",
    "        fasting blood sugar > 120 mg/dl\n",
    "        resting electrocardiographic results (values 0,1,2)\n",
    "        maximum heart rate achieved\n",
    "        exercise induced angina\n",
    "        oldpeak = ST depression induced by exercise relative to rest\n",
    "        the slope of the peak exercise ST segment\n",
    "        number of major vessels (0-3) colored by flourosopy\n",
    "        thal: 0 = normal; 1 = fixed defect; 2 = reversable defect\n",
    "### Preparing the tools"
   ]
  },
  {
   "cell_type": "code",
   "execution_count": null,
   "id": "6ad78432-4c07-4027-bea3-87fe8047aa84",
   "metadata": {},
   "outputs": [],
   "source": [
    "# Import all tools we need\n",
    "# regular EDA (Exploratory data analysis) and plotting lib\n",
    "import numpy as np\n",
    "import pandas as pd\n",
    "import matplotlib.pyplot as plt\n",
    "import seaborn as sns\n",
    "\n",
    "%matplotlib inline \n",
    "# We want our plots to appear inside the notebook\n",
    "\n",
    "# Models from scikit learn\n",
    "from sklearn.linear_model import LogisticRegression\n",
    "from sklearn.neighbors import KNeighborsClassifier\n",
    "from sklearn.ensemble import RandomForestClassifier\n",
    "\n",
    "# Models for evaluation\n",
    "from sklearn.model_selection import train_test_split,cross_val_score\n",
    "from sklearn.model_selection import RandomizedSearchCV,GridSearchCV\n",
    "from sklearn.metrics import confusion_matrix,classification_report\n",
    "from sklearn.metrics import precision_score,recall_score,f1_score\n",
    "from sklearn.metrics import RocCurveDisplay\n",
    "#from sklearn.metrics import plot_roc_curve"
   ]
  },
  {
   "cell_type": "markdown",
   "id": "5e77d37b-1578-4302-a84b-e88a184d5568",
   "metadata": {},
   "source": [
    "## Load data"
   ]
  },
  {
   "cell_type": "code",
   "execution_count": null,
   "id": "2eb22f77-ef0e-411a-ae71-45119ca36a41",
   "metadata": {},
   "outputs": [],
   "source": [
    "df=pd.read_csv(\"heart-disease.csv\")\n",
    "df"
   ]
  },
  {
   "cell_type": "code",
   "execution_count": null,
   "id": "57ae49ef-4be1-44a8-8ed2-13aea1a6a7e7",
   "metadata": {},
   "outputs": [],
   "source": [
    "df.shape  #rows and cols"
   ]
  },
  {
   "cell_type": "markdown",
   "id": "9a4815e3-3ced-43e3-bb33-dbd2b9e179de",
   "metadata": {},
   "source": [
    "## Data Exploration (EDA)\n",
    "The goal here is to find more about data and become a subject matter export on the dataset.\n",
    "\n",
    "1. What question(s) are you trying to solve?\n",
    "2. What kind of data do we have and how do we treat different types?\n",
    "3. What's missing from the data and how do you deal with it?\n",
    "4. Where are the outliers and why should you care about them?\n",
    "5. How can you add, change or remove features to get more out of your data?"
   ]
  },
  {
   "cell_type": "code",
   "execution_count": null,
   "id": "3eb5dfe1-1fa1-4ae4-b227-aab9b99d4d06",
   "metadata": {},
   "outputs": [],
   "source": [
    "# Knowing how many of each are there\n",
    "df[\"target\"].value_counts()"
   ]
  },
  {
   "cell_type": "code",
   "execution_count": null,
   "id": "74789f97-870f-43fa-9630-6d672527ed54",
   "metadata": {},
   "outputs": [],
   "source": [
    "df[\"target\"].value_counts().plot(kind=\"bar\",color=[\"salmon\",\"lightblue\"],\n",
    "                                xlabel='target',\n",
    "                                 ylabel=\"count\");"
   ]
  },
  {
   "cell_type": "code",
   "execution_count": null,
   "id": "c401a66d-5ea9-45ef-8ee4-200d32e33ace",
   "metadata": {},
   "outputs": [],
   "source": [
    "df.info()"
   ]
  },
  {
   "cell_type": "code",
   "execution_count": null,
   "id": "9b1738eb-4125-4624-97af-2adb2f43e280",
   "metadata": {},
   "outputs": [],
   "source": [
    "# Finding if there are any missing values\n",
    "df.isna().sum()"
   ]
  },
  {
   "cell_type": "code",
   "execution_count": null,
   "id": "8b4df732-e1ca-4598-8681-6050d2f9252b",
   "metadata": {},
   "outputs": [],
   "source": [
    "df.describe()"
   ]
  },
  {
   "cell_type": "markdown",
   "id": "e304a6b2-3228-4361-bae0-a0eb9b2c2f41",
   "metadata": {},
   "source": [
    "### Heart Disease Frequency by sex"
   ]
  },
  {
   "cell_type": "code",
   "execution_count": null,
   "id": "308d92b9-175e-460f-8e37-d429e4dadb16",
   "metadata": {},
   "outputs": [],
   "source": [
    "df.sex.value_counts()"
   ]
  },
  {
   "cell_type": "code",
   "execution_count": null,
   "id": "03f2d904-0d06-4522-897a-e8f712b03ffe",
   "metadata": {},
   "outputs": [],
   "source": [
    "# Compare the sex column with target column\n",
    "pd.crosstab(df.target,df.sex)"
   ]
  },
  {
   "cell_type": "code",
   "execution_count": null,
   "id": "f78aa080-8678-4a18-bf74-a8b0b5b4f982",
   "metadata": {},
   "outputs": [],
   "source": [
    "# Create a plot of crosstab\n",
    "pd.crosstab(df.target,df.sex).plot(kind=\"bar\",\n",
    "                                   figsize=(10,6),ylabel=\"sex count\",\n",
    "                                   color=[\"salmon\",\"lightblue\"]);\n",
    "plt.title(\"Heart Disease Frequency for Sex\")\n",
    "plt.xlabel(\"0 = No disease, 1 = Disease\")\n",
    "plt.legend([\"Female\",\"Male\"]);\n",
    "plt.xticks(rotation=0);"
   ]
  },
  {
   "cell_type": "markdown",
   "id": "c51fc1be-c628-4ce6-86b6-bcbdd56a8af3",
   "metadata": {},
   "source": [
    "### Age vs Max Heartrate for Heart disease"
   ]
  },
  {
   "cell_type": "code",
   "execution_count": null,
   "id": "569a1dc4-e5a2-4ccd-b5ab-b8add6539b7c",
   "metadata": {},
   "outputs": [],
   "source": [
    "df.thalach.value_counts()"
   ]
  },
  {
   "cell_type": "code",
   "execution_count": null,
   "id": "b91c0f41-1ea0-4cd5-8333-18adfc0cd474",
   "metadata": {},
   "outputs": [],
   "source": [
    "plt.figure(figsize=(8,5))\n",
    "plt.scatter(df.age[df.target==1],\n",
    "           df.thalach[df.target==1],\n",
    "           color=\"green\");\n",
    "# Scatter with negative examples\n",
    "plt.scatter(df.age[df.target==0],\n",
    "            df.thalach[df.target==0],\n",
    "            c=\"salmon\");\n",
    "plt.xlabel(\"Age\");\n",
    "plt.ylabel(\"Max Heart Rate\");\n",
    "plt.title(\"Heart Disease in function of Age and Max heart rate\")\n",
    "plt.legend([\"Disease\",\"No Disease\"]);"
   ]
  },
  {
   "cell_type": "code",
   "execution_count": null,
   "id": "1592e27b-34da-4253-b81f-eade64407091",
   "metadata": {},
   "outputs": [],
   "source": [
    "# Checking the distribution of Age column with histogram\n",
    "df.age.plot.hist();"
   ]
  },
  {
   "cell_type": "markdown",
   "id": "b5f7776c-2ac2-4942-aa9d-c62f02c536f7",
   "metadata": {},
   "source": [
    "### Heart Disease Frequency per Chest Pain Type"
   ]
  },
  {
   "cell_type": "code",
   "execution_count": null,
   "id": "89312aa2-7d6e-4167-b40e-926e9a5d4834",
   "metadata": {},
   "outputs": [],
   "source": [
    "pd.crosstab(df.cp,df.target)"
   ]
  },
  {
   "cell_type": "code",
   "execution_count": null,
   "id": "c25fabae-38a5-4649-bec3-460090f84424",
   "metadata": {},
   "outputs": [],
   "source": [
    "# Making the crosstab visual\n",
    "pd.crosstab(df.cp,df.target).plot(kind=\"bar\",\n",
    "                                  figsize=(10,6),\n",
    "                                  color=[\"salmon\",\"lightblue\"])\n",
    "plt.title(\"Heart Disease Frequency as per Chest pain type\")\n",
    "plt.xlabel(\"Chest pain Type\")\n",
    "plt.ylabel(\"Amount\")\n",
    "plt.legend([\"No Disease\",\"Disease\"])\n",
    "plt.xticks(rotation=0);"
   ]
  },
  {
   "cell_type": "code",
   "execution_count": null,
   "id": "8291f151-d3fb-4020-b9a7-440367d6775e",
   "metadata": {},
   "outputs": [],
   "source": [
    "# Make a correlation matrix\n",
    "df.corr()"
   ]
  },
  {
   "cell_type": "code",
   "execution_count": null,
   "id": "77d53a01-73b9-4346-8f4c-3a05d0e4d003",
   "metadata": {},
   "outputs": [],
   "source": [
    "corr_matrix = df.corr()\n",
    "fig,ax = plt.subplots(figsize=(15,10))\n",
    "ax = sns.heatmap(corr_matrix,\n",
    "                 annot=True,\n",
    "                 linewidths=0.5,\n",
    "                 fmt=\".2f\",\n",
    "                 cmap=\"YlGnBu\"\n",
    "                );\n",
    "#bottom,top = ax.get_ylim()\n",
    "#ax.set_ylim(bottom+0.5,top-0.5)"
   ]
  },
  {
   "cell_type": "markdown",
   "id": "05235d2a-9429-4483-a833-a15657338259",
   "metadata": {},
   "source": [
    "## 5. Evaluation"
   ]
  },
  {
   "cell_type": "code",
   "execution_count": null,
   "id": "d9ac9fb9-67eb-4f56-baea-87d6b0f2ca9e",
   "metadata": {},
   "outputs": [],
   "source": [
    "# Split data into X and y\n",
    "X = df.drop(\"target\",axis=1)\n",
    "y=df[\"target\"]\n",
    "X.head()"
   ]
  },
  {
   "cell_type": "code",
   "execution_count": null,
   "id": "2bbf1404-f5d4-48ab-9ebb-7cc08eace27c",
   "metadata": {},
   "outputs": [],
   "source": [
    "y.head()"
   ]
  },
  {
   "cell_type": "code",
   "execution_count": null,
   "id": "f9801250-5415-4e7d-a573-9485284393f9",
   "metadata": {},
   "outputs": [],
   "source": [
    "# Split data into train and test sets\n",
    "np.random.seed(42)\n",
    "X_train,X_test,y_train,y_test=train_test_split(X,y,test_size=0.2)"
   ]
  },
  {
   "cell_type": "code",
   "execution_count": null,
   "id": "e55a164a-ad8d-4d7c-bdfc-55469fdb8883",
   "metadata": {},
   "outputs": [],
   "source": [
    "len(X_train),len(X_test)"
   ]
  },
  {
   "cell_type": "markdown",
   "id": "313919b7-8e5e-4b34-ba4b-e1fd50e339d5",
   "metadata": {},
   "source": [
    "#### Experimenting on 3 different machine learning models :\n",
    "1. LogisticRegression\n",
    "2. K-NearestNeighbours Classifier\n",
    "3. Random Forest Classifier"
   ]
  },
  {
   "cell_type": "code",
   "execution_count": null,
   "id": "dd5b4ae0-6417-406c-a962-a02d4ae4e16a",
   "metadata": {},
   "outputs": [],
   "source": [
    "# Keeping models in dictionary\n",
    "models = {\"Logistic Regression\" : LogisticRegression(),\n",
    "          \"KNN\" : KNeighborsClassifier(),\n",
    "          \"Random Forest\" : RandomForestClassifier()}\n",
    "\n",
    "# A function to fit and score models\n",
    "def fit_and_score(models,X_train,X_test,y_train,y_test):\n",
    "    \"\"\"\n",
    "    Fits and evaluates given machine learning models.\\\n",
    "    models :  a dict of different scikit learn ML models.\n",
    "    X_train and y_train are training data,\n",
    "    X_test and y_test are testing data labels.\n",
    "    \"\"\"\n",
    "    np.random.seed(42)\n",
    "    # Make a dictionary to keep model scores\n",
    "    model_scores={}\n",
    "    # Loop through models for evaluating\n",
    "    for name,model in models.items():\n",
    "        model.fit(X_train,y_train)\n",
    "        model_scores[name]=model.score(X_test,y_test)\n",
    "    return model_scores"
   ]
  },
  {
   "cell_type": "code",
   "execution_count": null,
   "id": "5f2dfdac-c241-4bcc-9fe2-bb248cd4881b",
   "metadata": {},
   "outputs": [],
   "source": [
    "model_scores=fit_and_score(models = models,\n",
    "                           X_train = X_train,\n",
    "                           X_test = X_test,\n",
    "                           y_train = y_train,\n",
    "                           y_test = y_test)\n",
    "\n",
    "model_scores"
   ]
  },
  {
   "cell_type": "markdown",
   "id": "7ca13391-08ce-4c0f-ba04-5dece226d339",
   "metadata": {},
   "source": [
    "### Model Comparision"
   ]
  },
  {
   "cell_type": "code",
   "execution_count": null,
   "id": "a6f48953-7717-4b84-b6a5-430412c7a821",
   "metadata": {},
   "outputs": [],
   "source": [
    "model_compare = pd.DataFrame(model_scores,index = [\"accuracy\"])\n",
    "model_compare.T.plot.bar();\n",
    "plt.xticks(rotation=0);\n",
    "plt.ylabel(\"Accuracy score\")\n",
    "plt.title(\"Accuracy Measure for baseline models\")"
   ]
  },
  {
   "cell_type": "markdown",
   "id": "194e5dbc-a942-4bd2-b373-58140cc52ed3",
   "metadata": {},
   "source": [
    "Approach for getting the best model :\n",
    "1. Hyperparameter tuning\n",
    "2. Feature importance\n",
    "3. Confusion Matrix\n",
    "4. Cross validtion\n",
    "5. Precision\n",
    "6. Recall\n",
    "7. F1 Score\n",
    "8. Classification report\n",
    "9. ROC curve\n",
    "10. Area under the curve"
   ]
  },
  {
   "cell_type": "markdown",
   "id": "1cc26d01-1c2b-457c-a37c-cbbf04f5c8c2",
   "metadata": {},
   "source": [
    "### Hyperparameter Tuning (by hand)"
   ]
  },
  {
   "cell_type": "code",
   "execution_count": null,
   "id": "ce8dffdf-1865-4b4c-9f60-e394cbe3431e",
   "metadata": {},
   "outputs": [],
   "source": [
    "# Tuning KNN model\n",
    "train_scores=[]\n",
    "test_scores=[]\n",
    "neighbors = range(1,21)\n",
    "knn = KNeighborsClassifier()\n",
    "for i in neighbors:\n",
    "    knn.set_params(n_neighbors=i)\n",
    "    knn.fit(X_train,y_train)\n",
    "    train_scores.append(knn.score(X_train,y_train))\n",
    "    test_scores.append(knn.score(X_test,y_test))"
   ]
  },
  {
   "cell_type": "code",
   "execution_count": null,
   "id": "ea255dde-2840-42d7-8d7f-df17d0ea2b38",
   "metadata": {},
   "outputs": [],
   "source": [
    "train_scores"
   ]
  },
  {
   "cell_type": "code",
   "execution_count": null,
   "id": "32284612-59a9-4d89-84b8-63274babe46d",
   "metadata": {},
   "outputs": [],
   "source": [
    "test_scores"
   ]
  },
  {
   "cell_type": "code",
   "execution_count": null,
   "id": "93ab003e-f0e2-4086-8cc7-d9920c97028b",
   "metadata": {},
   "outputs": [],
   "source": [
    "plt.plot(neighbors,train_scores,label=\"Train Score\")\n",
    "plt.plot(neighbors,test_scores,label=\"Test Score\")\n",
    "plt.xlabel(\"Number of neighbors\")\n",
    "plt.ylabel(\"Model score\")\n",
    "plt.xticks(np.arange(1,21,1))\n",
    "plt.legend()\n",
    "print(f\"Maximum KNN score on test data :{max(test_scores)*100:.2f}%\")"
   ]
  },
  {
   "cell_type": "markdown",
   "id": "93b27424-d87d-48f1-b477-4f91f6da50a6",
   "metadata": {},
   "source": [
    "### Hyperparameter tuning by Randomized SearchCV\n",
    "\n",
    "Both LogisticRegression and RandomForestClassifier are tuned by Randomsearchcv."
   ]
  },
  {
   "cell_type": "code",
   "execution_count": null,
   "id": "11534c64-a010-4158-abb4-049e7c2fc898",
   "metadata": {},
   "outputs": [],
   "source": [
    "# Creating a hyperparamter grid for logistic regression\n",
    "log_reg_grid = {\"C\":np.logspace(-4,4,20),\n",
    "                \"solver\":[\"liblinear\"]}\n",
    "# Create a hyper parameter grid for RandomForestClassifier\n",
    "rf_grid={\"n_estimators\":np.arange(10,1000,50),\n",
    "         \"max_depth\":[None,3,5,10],\n",
    "         \"min_samples_split\":np.arange(2,20,2),\n",
    "         \"min_samples_leaf\":np.arange(1,20,2)}"
   ]
  },
  {
   "cell_type": "code",
   "execution_count": null,
   "id": "435ca5f6-72d5-419d-85d1-1a9be4678e56",
   "metadata": {},
   "outputs": [],
   "source": [
    "# Tuning logistic regression model\n",
    "np.random.seed(42)\n",
    "rs_log_reg = RandomizedSearchCV(LogisticRegression(),\n",
    "                                param_distributions=log_reg_grid,\n",
    "                                cv=5,\n",
    "                                n_iter=20,\n",
    "                                verbose=True)\n",
    "rs_log_reg.fit(X_train,y_train)"
   ]
  },
  {
   "cell_type": "code",
   "execution_count": null,
   "id": "62e05155-7fe4-465b-88f1-18e457f26a35",
   "metadata": {},
   "outputs": [],
   "source": [
    "rs_log_reg.best_params_"
   ]
  },
  {
   "cell_type": "code",
   "execution_count": null,
   "id": "78065ff4-800f-438c-b783-df0fc307dd7b",
   "metadata": {},
   "outputs": [],
   "source": [
    "rs_log_reg.score(X_test,y_test)"
   ]
  },
  {
   "cell_type": "code",
   "execution_count": null,
   "id": "31944c69-16fc-4519-977c-28552884fc9b",
   "metadata": {},
   "outputs": [],
   "source": [
    "np.random.seed(42)\n",
    "rs_rf = RandomizedSearchCV(RandomForestClassifier(),\n",
    "                                param_distributions=rf_grid,\n",
    "                                cv=5,\n",
    "                                n_iter=20,\n",
    "                                verbose=True)\n",
    "rs_rf.fit(X_train,y_train)"
   ]
  },
  {
   "cell_type": "code",
   "execution_count": null,
   "id": "dc9e7001-eca7-426c-a6aa-c9f672d202dd",
   "metadata": {},
   "outputs": [],
   "source": [
    "rs_rf.score(X_test,y_test)"
   ]
  },
  {
   "cell_type": "code",
   "execution_count": null,
   "id": "6c8063a2-9682-4cf3-b29c-d3365f4c83e2",
   "metadata": {},
   "outputs": [],
   "source": [
    "rs_rf.best_params_"
   ]
  },
  {
   "cell_type": "markdown",
   "id": "f087947a-6a38-42ba-a37b-d141030c80aa",
   "metadata": {},
   "source": [
    "### Hyperpaper tuning with GridSearchCV"
   ]
  },
  {
   "cell_type": "code",
   "execution_count": null,
   "id": "46162d2f-a1f6-4dc1-8a3c-1cb65e7828a7",
   "metadata": {},
   "outputs": [],
   "source": [
    "# Creating a hyperparamter grid for logistic regression\n",
    "log_reg_grid = {\"C\":np.logspace(-4,4,20),\n",
    "                \"solver\":[\"liblinear\"]}\n",
    "gs_log_reg = GridSearchCV(LogisticRegression(),\n",
    "                                param_grid=log_reg_grid,\n",
    "                                cv=5,\n",
    "                                verbose=True)\n",
    "gs_log_reg.fit(X_train,y_train)\n"
   ]
  },
  {
   "cell_type": "code",
   "execution_count": null,
   "id": "644ad3a9-413d-46d0-bd7e-56bd30b60fff",
   "metadata": {},
   "outputs": [],
   "source": [
    "gs_log_reg.best_params_"
   ]
  },
  {
   "cell_type": "code",
   "execution_count": null,
   "id": "66139d11-3728-442a-b080-8b2b8c384650",
   "metadata": {},
   "outputs": [],
   "source": [
    "gs_log_reg.score(X_test,y_test)"
   ]
  },
  {
   "cell_type": "code",
   "execution_count": null,
   "id": "7d9463c1-f8ec-40cc-8dbb-26a20098269f",
   "metadata": {},
   "outputs": [],
   "source": [
    "# rf_grid={\"n_estimators\":np.arange(10,1000,50),\n",
    "#          \"max_depth\":[None,3,5,10],\n",
    "#          \"min_samples_split\":np.arange(2,20,2),\n",
    "#          \"min_samples_leaf\":np.arange(1,20,2)}\n",
    "# gs_rf = RandomizedSearchCV(RandomForestClassifier(),\n",
    "#                                 param_grid=rf_grid,\n",
    "#                                 cv=5,\n",
    "#                                 verbose=True)\n",
    "# rs_rf.fit(X_train,y_train)"
   ]
  },
  {
   "cell_type": "markdown",
   "id": "2de2ddf5-9094-43a9-9a1e-a66c7df847e0",
   "metadata": {},
   "source": [
    "## Evaluating our tuned machine learning classifier, beyond accuracy\n",
    "* roc curve and auc curve\n",
    "* Confusion matrix\n",
    "* Classification report\n",
    "* Precision\n",
    "* Recall\n",
    "* F1 score"
   ]
  },
  {
   "cell_type": "code",
   "execution_count": null,
   "id": "c7f6ee7e-5851-46ce-be1a-9e547001a3f5",
   "metadata": {},
   "outputs": [],
   "source": [
    "# Making prediction with tuned model\n",
    "y_preds=gs_log_reg.predict(X_test)\n",
    "y_preds"
   ]
  },
  {
   "cell_type": "code",
   "execution_count": null,
   "id": "45c2e641-a7d1-41bb-b50b-c497d4837a2d",
   "metadata": {},
   "outputs": [],
   "source": [
    "# # Plotting ROC Curve and calculatig AUC metric\n",
    "RocCurveDisplay.from_estimator(estimator=gs_log_reg,\n",
    "                               X=X_test,\n",
    "                               y=y_test);\n"
   ]
  },
  {
   "cell_type": "code",
   "execution_count": null,
   "id": "3c830221-d983-458c-ae33-639e304440c7",
   "metadata": {},
   "outputs": [],
   "source": [
    "sns.set(font_scale=1.5)\n",
    "def plot_conf_matrix(y_test,y_preds):\n",
    "    \"\"\"\n",
    "    PLots a nice looking confusion matrix using Seaborn's heatmap()\n",
    "    \"\"\"\n",
    "    fig,ax = plt.subplots(figsize=(3,3))\n",
    "    ax = sns.heatmap(confusion_matrix(y_test,y_preds),\n",
    "                     annot = True,\n",
    "                     cbar=False)\n",
    "    plt.xlabel(\"True label\")\n",
    "    plt.ylabel(\"Predicted label\")\n",
    "\n",
    "plot_conf_matrix(y_test,y_preds)\n",
    "    "
   ]
  },
  {
   "cell_type": "markdown",
   "id": "fc5fa40c-9670-4639-930e-7413a1a24dd0",
   "metadata": {},
   "source": [
    "#### Classification report"
   ]
  },
  {
   "cell_type": "code",
   "execution_count": null,
   "id": "0d6a8832-614d-4eb6-a0cd-15f285aeef6f",
   "metadata": {},
   "outputs": [],
   "source": [
    "print(classification_report(y_test,y_preds))"
   ]
  },
  {
   "cell_type": "markdown",
   "id": "62162853-ae6e-44c0-b6f6-a443369771b7",
   "metadata": {},
   "source": [
    "### Calculate evaluation metrics using cross validation"
   ]
  },
  {
   "cell_type": "code",
   "execution_count": null,
   "id": "867cfe4e-a4b7-4471-88b1-2c3e993e7b2e",
   "metadata": {},
   "outputs": [],
   "source": [
    "# Creting a new clasifier with best parameters\n",
    "clf = LogisticRegression(C=0.23357214690901212, solver= 'liblinear')"
   ]
  },
  {
   "cell_type": "code",
   "execution_count": null,
   "id": "504a1169-be11-464c-81c1-61cd6159c52e",
   "metadata": {},
   "outputs": [],
   "source": [
    "cv_acc=cross_val_score(clf,\n",
    "                       X,\n",
    "                       y,\n",
    "                       cv=5,\n",
    "                       scoring=\"accuracy\")\n",
    "cv_acc=np.mean(cv_acc)\n",
    "cv_acc"
   ]
  },
  {
   "cell_type": "code",
   "execution_count": null,
   "id": "8ddb95ce-da5f-4be6-a5eb-f33c94f51db2",
   "metadata": {},
   "outputs": [],
   "source": [
    "cv_precision=cross_val_score(clf,\n",
    "                       X,\n",
    "                       y,\n",
    "                       cv=5,\n",
    "                       scoring=\"precision\")\n",
    "cv_precision=np.mean(cv_precision)\n",
    "cv_precision"
   ]
  },
  {
   "cell_type": "code",
   "execution_count": null,
   "id": "93f9682d-fa2d-4e20-add6-5848d1f3e41d",
   "metadata": {},
   "outputs": [],
   "source": [
    "cv_recall=cross_val_score(clf,\n",
    "                       X,\n",
    "                       y,\n",
    "                       cv=5,\n",
    "                       scoring=\"recall\")\n",
    "cv_recall=np.mean(cv_recall)\n",
    "cv_recall"
   ]
  },
  {
   "cell_type": "code",
   "execution_count": null,
   "id": "96b8a50b-2993-4f10-9d9b-870b925b609d",
   "metadata": {},
   "outputs": [],
   "source": [
    "cv_f1=cross_val_score(clf,\n",
    "                       X,\n",
    "                       y,\n",
    "                       cv=5,\n",
    "                       scoring=\"f1\")\n",
    "cv_f1=np.mean(cv_f1)\n",
    "cv_f1"
   ]
  },
  {
   "cell_type": "code",
   "execution_count": null,
   "id": "665f5862-14f4-43d3-805c-f9f597a4e5cb",
   "metadata": {},
   "outputs": [],
   "source": [
    "# Visualizing cross validated metrics\n",
    "cv_metrics=pd.DataFrame({\"Accuracy\":cv_acc,\n",
    "                         \"Precision\":cv_precision,\n",
    "                         \"Recall\":cv_recall,\n",
    "                         \"F1\":cv_f1},\n",
    "                        index=[0])\n",
    "cv_metrics.T.plot.bar(title=\"Cross validated classification metrics\",\n",
    "                     legend=False);\n",
    "plt.xticks(rotation=0);"
   ]
  },
  {
   "cell_type": "markdown",
   "id": "a51fb42b-9e25-4b99-b514-883b6de9a059",
   "metadata": {},
   "source": [
    "## Feature Importance\n",
    "For our Logistic Regression model ..."
   ]
  },
  {
   "cell_type": "code",
   "execution_count": null,
   "id": "d410705e-0b06-4aac-ac75-320081a68855",
   "metadata": {},
   "outputs": [],
   "source": [
    "clf.fit(X_train,y_train);"
   ]
  },
  {
   "cell_type": "code",
   "execution_count": null,
   "id": "2d06083e-26d1-403a-b788-3c7b7341deaf",
   "metadata": {},
   "outputs": [],
   "source": [
    "clf.coef_"
   ]
  },
  {
   "cell_type": "code",
   "execution_count": null,
   "id": "e62d44c5-5701-4ffd-befa-3d12e7991dcb",
   "metadata": {},
   "outputs": [],
   "source": [
    "df.head()"
   ]
  },
  {
   "cell_type": "code",
   "execution_count": null,
   "id": "4231ae49-945e-4602-80c6-14351d285b7c",
   "metadata": {},
   "outputs": [],
   "source": [
    "# Match coef's of features to cols\n",
    "feature_dict=dict(zip(df.columns,list(clf.coef_[0])))\n",
    "feature_dict               "
   ]
  },
  {
   "cell_type": "code",
   "execution_count": null,
   "id": "a034a2ce-a02e-4253-bb33-1f8618c56d15",
   "metadata": {},
   "outputs": [],
   "source": [
    "# Visualizing the feature importance\n",
    "feature_df=pd.DataFrame(feature_dict,index=[0])\n",
    "feature_df.T.plot.bar(title=\"Feature Importance\",legend=False);"
   ]
  },
  {
   "cell_type": "code",
   "execution_count": null,
   "id": "6ad39177-a535-4e13-bd6c-5368a1b652dd",
   "metadata": {},
   "outputs": [],
   "source": [
    "pd.crosstab(df[\"sex\"],df[\"target\"])"
   ]
  },
  {
   "cell_type": "code",
   "execution_count": null,
   "id": "978f7908-5318-47ae-84d5-131a98f2595d",
   "metadata": {},
   "outputs": [],
   "source": [
    "pd.crosstab(df[\"slope\"],df[\"target\"])"
   ]
  },
  {
   "cell_type": "markdown",
   "id": "65d4cf42-a20c-4795-885e-0d42e7c731e5",
   "metadata": {},
   "source": [
    "# 6.Experimentation\n",
    "Going for XBoost and other to improv"
   ]
  },
  {
   "cell_type": "code",
   "execution_count": null,
   "id": "909c38f6-ef64-486b-a7f7-5b1b0ce065ff",
   "metadata": {},
   "outputs": [],
   "source": []
  }
 ],
 "metadata": {
  "kernelspec": {
   "display_name": "Python 3 (ipykernel)",
   "language": "python",
   "name": "python3"
  },
  "language_info": {
   "codemirror_mode": {
    "name": "ipython",
    "version": 3
   },
   "file_extension": ".py",
   "mimetype": "text/x-python",
   "name": "python",
   "nbconvert_exporter": "python",
   "pygments_lexer": "ipython3",
   "version": "3.12.3"
  }
 },
 "nbformat": 4,
 "nbformat_minor": 5
}
